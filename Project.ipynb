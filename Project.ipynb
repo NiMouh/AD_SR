{
 "cells": [
  {
   "cell_type": "markdown",
   "source": [
    "# Evaluation of network communications"
   ],
   "metadata": {
    "collapsed": false
   },
   "id": "3fcb6b3c1b4106f5"
  },
  {
   "cell_type": "code",
   "id": "initial_id",
   "metadata": {
    "collapsed": true,
    "is_executing": true,
    "ExecuteTime": {
     "end_time": "2024-06-08T22:41:03.926780Z",
     "start_time": "2024-06-08T22:41:01.163797Z"
    }
   },
   "source": [
    "import numpy as np\n",
    "import matplotlib.pyplot as plt\n",
    "import matplotlib.cm as cm\n",
    "import pandas as pd\n",
    "import ipaddress\n",
    "import dns.resolver\n",
    "import dns.reversename\n",
    "import pygeoip"
   ],
   "outputs": [],
   "execution_count": 3
  },
  {
   "cell_type": "markdown",
   "source": [
    "## About the Datasets\n",
    "There are 2 datasets:\n",
    "- **data3**: contains the data of the communication in one day without any anomalous behavior;\n",
    "- **test3**: contains the data of the communication in one day with anomalous behavior;\n",
    "\n",
    "Each dataframe contains the following columns:\n",
    "- `index`: the index of the row\n",
    "- `timestamp`: the timestamp of the event\n",
    "- `src_ip`: the source IP address\n",
    "- `dst_ip`: the destination IP address\n",
    "- `proto`: the protocol used\n",
    "- `port`: the port used\n",
    "- `up_bytes`: the number of bytes uploaded by the source\n",
    "- `down_bytes`: the number of bytes downloaded by the source"
   ],
   "metadata": {
    "collapsed": false
   },
   "id": "89203c9ac2c93494"
  },
  {
   "cell_type": "code",
   "source": [
    "non_anomalous_df = pd.read_parquet('datasets/dataset3/data3.parquet')\n",
    "non_anomalous_df.head()"
   ],
   "metadata": {
    "collapsed": false,
    "is_executing": true,
    "ExecuteTime": {
     "end_time": "2024-06-08T22:46:17.776865Z",
     "start_time": "2024-06-08T22:46:17.554194Z"
    }
   },
   "id": "99668d8f96cc3bba",
   "outputs": [
    {
     "data": {
      "text/plain": [
       "        timestamp          src_ip           dst_ip proto  port  up_bytes  \\\n",
       "index                                                                      \n",
       "779943     957860  192.168.103.11   142.250.200.99   tcp   443     22243   \n",
       "779944     957930  192.168.103.11  193.126.240.146   tcp   443     34885   \n",
       "779945     958055  192.168.103.11  193.126.240.146   tcp   443     25383   \n",
       "779946     958066  192.168.103.11  193.126.240.146   tcp   443     19162   \n",
       "779947     958171  192.168.103.11  193.126.240.146   tcp   443      7247   \n",
       "\n",
       "        down_bytes  \n",
       "index               \n",
       "779943      228517  \n",
       "779944      199897  \n",
       "779945      216980  \n",
       "779946       99479  \n",
       "779947       60469  "
      ],
      "text/html": [
       "<div>\n",
       "<style scoped>\n",
       "    .dataframe tbody tr th:only-of-type {\n",
       "        vertical-align: middle;\n",
       "    }\n",
       "\n",
       "    .dataframe tbody tr th {\n",
       "        vertical-align: top;\n",
       "    }\n",
       "\n",
       "    .dataframe thead th {\n",
       "        text-align: right;\n",
       "    }\n",
       "</style>\n",
       "<table border=\"1\" class=\"dataframe\">\n",
       "  <thead>\n",
       "    <tr style=\"text-align: right;\">\n",
       "      <th></th>\n",
       "      <th>timestamp</th>\n",
       "      <th>src_ip</th>\n",
       "      <th>dst_ip</th>\n",
       "      <th>proto</th>\n",
       "      <th>port</th>\n",
       "      <th>up_bytes</th>\n",
       "      <th>down_bytes</th>\n",
       "    </tr>\n",
       "    <tr>\n",
       "      <th>index</th>\n",
       "      <th></th>\n",
       "      <th></th>\n",
       "      <th></th>\n",
       "      <th></th>\n",
       "      <th></th>\n",
       "      <th></th>\n",
       "      <th></th>\n",
       "    </tr>\n",
       "  </thead>\n",
       "  <tbody>\n",
       "    <tr>\n",
       "      <th>779943</th>\n",
       "      <td>957860</td>\n",
       "      <td>192.168.103.11</td>\n",
       "      <td>142.250.200.99</td>\n",
       "      <td>tcp</td>\n",
       "      <td>443</td>\n",
       "      <td>22243</td>\n",
       "      <td>228517</td>\n",
       "    </tr>\n",
       "    <tr>\n",
       "      <th>779944</th>\n",
       "      <td>957930</td>\n",
       "      <td>192.168.103.11</td>\n",
       "      <td>193.126.240.146</td>\n",
       "      <td>tcp</td>\n",
       "      <td>443</td>\n",
       "      <td>34885</td>\n",
       "      <td>199897</td>\n",
       "    </tr>\n",
       "    <tr>\n",
       "      <th>779945</th>\n",
       "      <td>958055</td>\n",
       "      <td>192.168.103.11</td>\n",
       "      <td>193.126.240.146</td>\n",
       "      <td>tcp</td>\n",
       "      <td>443</td>\n",
       "      <td>25383</td>\n",
       "      <td>216980</td>\n",
       "    </tr>\n",
       "    <tr>\n",
       "      <th>779946</th>\n",
       "      <td>958066</td>\n",
       "      <td>192.168.103.11</td>\n",
       "      <td>193.126.240.146</td>\n",
       "      <td>tcp</td>\n",
       "      <td>443</td>\n",
       "      <td>19162</td>\n",
       "      <td>99479</td>\n",
       "    </tr>\n",
       "    <tr>\n",
       "      <th>779947</th>\n",
       "      <td>958171</td>\n",
       "      <td>192.168.103.11</td>\n",
       "      <td>193.126.240.146</td>\n",
       "      <td>tcp</td>\n",
       "      <td>443</td>\n",
       "      <td>7247</td>\n",
       "      <td>60469</td>\n",
       "    </tr>\n",
       "  </tbody>\n",
       "</table>\n",
       "</div>"
      ]
     },
     "execution_count": 9,
     "metadata": {},
     "output_type": "execute_result"
    }
   ],
   "execution_count": 9
  },
  {
   "cell_type": "code",
   "source": [
    "anomalous_df = pd.read_parquet('datasets/dataset3/test3.parquet')\n",
    "anomalous_df.head()"
   ],
   "metadata": {
    "collapsed": false,
    "is_executing": true,
    "ExecuteTime": {
     "end_time": "2024-06-08T22:41:07.352600Z",
     "start_time": "2024-06-08T22:41:07.116862Z"
    }
   },
   "id": "51db675f267080db",
   "outputs": [
    {
     "data": {
      "text/plain": [
       "        timestamp          src_ip           dst_ip proto  port  up_bytes  \\\n",
       "index                                                                      \n",
       "174163    1488996  192.168.103.17  192.168.103.228   udp    53       210   \n",
       "174164    1489002  192.168.103.17  192.168.103.228   udp    53       204   \n",
       "174165    1489088  192.168.103.17   142.250.200.99   tcp   443      8967   \n",
       "174166    1489284  192.168.103.17   142.250.200.99   tcp   443      4501   \n",
       "174167    1489314  192.168.103.17   142.250.200.99   tcp   443     22478   \n",
       "\n",
       "        down_bytes  \n",
       "index               \n",
       "174163         611  \n",
       "174164         580  \n",
       "174165       57243  \n",
       "174166       34854  \n",
       "174167      178992  "
      ],
      "text/html": [
       "<div>\n",
       "<style scoped>\n",
       "    .dataframe tbody tr th:only-of-type {\n",
       "        vertical-align: middle;\n",
       "    }\n",
       "\n",
       "    .dataframe tbody tr th {\n",
       "        vertical-align: top;\n",
       "    }\n",
       "\n",
       "    .dataframe thead th {\n",
       "        text-align: right;\n",
       "    }\n",
       "</style>\n",
       "<table border=\"1\" class=\"dataframe\">\n",
       "  <thead>\n",
       "    <tr style=\"text-align: right;\">\n",
       "      <th></th>\n",
       "      <th>timestamp</th>\n",
       "      <th>src_ip</th>\n",
       "      <th>dst_ip</th>\n",
       "      <th>proto</th>\n",
       "      <th>port</th>\n",
       "      <th>up_bytes</th>\n",
       "      <th>down_bytes</th>\n",
       "    </tr>\n",
       "    <tr>\n",
       "      <th>index</th>\n",
       "      <th></th>\n",
       "      <th></th>\n",
       "      <th></th>\n",
       "      <th></th>\n",
       "      <th></th>\n",
       "      <th></th>\n",
       "      <th></th>\n",
       "    </tr>\n",
       "  </thead>\n",
       "  <tbody>\n",
       "    <tr>\n",
       "      <th>174163</th>\n",
       "      <td>1488996</td>\n",
       "      <td>192.168.103.17</td>\n",
       "      <td>192.168.103.228</td>\n",
       "      <td>udp</td>\n",
       "      <td>53</td>\n",
       "      <td>210</td>\n",
       "      <td>611</td>\n",
       "    </tr>\n",
       "    <tr>\n",
       "      <th>174164</th>\n",
       "      <td>1489002</td>\n",
       "      <td>192.168.103.17</td>\n",
       "      <td>192.168.103.228</td>\n",
       "      <td>udp</td>\n",
       "      <td>53</td>\n",
       "      <td>204</td>\n",
       "      <td>580</td>\n",
       "    </tr>\n",
       "    <tr>\n",
       "      <th>174165</th>\n",
       "      <td>1489088</td>\n",
       "      <td>192.168.103.17</td>\n",
       "      <td>142.250.200.99</td>\n",
       "      <td>tcp</td>\n",
       "      <td>443</td>\n",
       "      <td>8967</td>\n",
       "      <td>57243</td>\n",
       "    </tr>\n",
       "    <tr>\n",
       "      <th>174166</th>\n",
       "      <td>1489284</td>\n",
       "      <td>192.168.103.17</td>\n",
       "      <td>142.250.200.99</td>\n",
       "      <td>tcp</td>\n",
       "      <td>443</td>\n",
       "      <td>4501</td>\n",
       "      <td>34854</td>\n",
       "    </tr>\n",
       "    <tr>\n",
       "      <th>174167</th>\n",
       "      <td>1489314</td>\n",
       "      <td>192.168.103.17</td>\n",
       "      <td>142.250.200.99</td>\n",
       "      <td>tcp</td>\n",
       "      <td>443</td>\n",
       "      <td>22478</td>\n",
       "      <td>178992</td>\n",
       "    </tr>\n",
       "  </tbody>\n",
       "</table>\n",
       "</div>"
      ]
     },
     "execution_count": 5,
     "metadata": {},
     "output_type": "execute_result"
    }
   ],
   "execution_count": 5
  },
  {
   "metadata": {},
   "cell_type": "markdown",
   "source": [
    "## Inside vs. Outside the Network\n",
    "\n",
    "This part makes a comparison the number of packets sent inside and outside the network. As we can see, the number of packets sent outside the network is lower in the anomalous dataset than in the non-anomalous dataset. \n",
    "\n",
    "This could be an indicator of attacks like:\n",
    "- **Internal Reconnaissance**: An attacker might be performing internal reconnaissance, leading to an increase in internal traffic and a corresponding decrease in external traffic.\n",
    "- **Data Exfiltration preparation**: An attacker might be preparing for data exfiltration, leading to an increase in internal traffic and a corresponding decrease in external traffic.\n",
    "- **Internal C&C Communication**: An attacker might be communicating with a C&C server inside the network, leading to an increase in internal traffic and a corresponding decrease in external traffic."
   ],
   "id": "dc63471bf39dea2c"
  },
  {
   "metadata": {
    "ExecuteTime": {
     "end_time": "2024-06-08T23:02:12.053219Z",
     "start_time": "2024-06-08T23:01:51.685874Z"
    }
   },
   "cell_type": "code",
   "source": [
    "def inside_outside_network(dataframe, title_prefix=''):\n",
    "    internal_network = ipaddress.IPv4Network('192.168.103.0/24')\n",
    "    binternal = dataframe.apply(lambda x: ipaddress.ip_address(x['dst_ip']) in internal_network, axis=1)\n",
    "    bexternal = dataframe.apply(lambda x: ipaddress.ip_address(x['dst_ip']) not in internal_network, axis=1)\n",
    "    \n",
    "    return binternal, bexternal\n",
    "\n",
    "na_internal_network_packets, na_external_network_packets = inside_outside_network(non_anomalous_df, title_prefix='Non-anomalous')\n",
    "print(f'Number of packets sent inside the network (Non-anomalous dataset): {na_internal_network_packets.sum()}')\n",
    "print(f'Number of packets sent outside the network (Non-anomalous dataset): {na_external_network_packets.sum()}')\n",
    "print(f'Ratio of packets sent outside the network (Non-anomalous dataset): {na_external_network_packets.sum() / len(non_anomalous_df) * 100:.2f}%')\n",
    "print(f'Ratio of packets sent inside the network (Non-anomalous dataset): {na_internal_network_packets.sum() / len(non_anomalous_df) * 100:.2f}%')\n",
    "\n",
    "print()\n",
    "\n",
    "a_internal_network_packets, a_external_network_packets = inside_outside_network(anomalous_df, title_prefix='Anomalous')\n",
    "print(f'Number of packets sent inside the network (Anomalous dataset): {a_internal_network_packets.sum()}')\n",
    "print(f'Number of packets sent outside the network (Anomalous dataset): {a_external_network_packets.sum()}')\n",
    "print(f'Ratio of packets sent outside the network (Anomalous dataset): {a_external_network_packets.sum() / len(anomalous_df) * 100:.2f}%')\n",
    "print(f'Ratio of packets sent inside the network (Anomalous dataset): {a_internal_network_packets.sum() / len(anomalous_df) * 100:.2f}%')"
   ],
   "id": "52c490dfe76355d",
   "outputs": [
    {
     "name": "stdout",
     "output_type": "stream",
     "text": [
      "Number of packets sent inside the network (Non-anomalous dataset): 280139\n",
      "Number of packets sent outside the network (Non-anomalous dataset): 666458\n",
      "Ratio of packets sent outside the network (Non-anomalous dataset): 70.41%\n",
      "Ratio of packets sent inside the network (Non-anomalous dataset): 29.59%\n",
      "\n",
      "Number of packets sent inside the network (Anomalous dataset): 359169\n",
      "Number of packets sent outside the network (Anomalous dataset): 678661\n",
      "Ratio of packets sent outside the network (Anomalous dataset): 65.39%\n",
      "Ratio of packets sent inside the network (Anomalous dataset): 34.61%\n"
     ]
    }
   ],
   "execution_count": 13
  },
  {
   "cell_type": "markdown",
   "source": [
    "## Inside the Network\n",
    "In this section, we will analyze the traffic flow inside the network. We will look at who communicates with whom, the protocols used, and look for any anomalies in the communication.\n",
    "\n",
    "#### Protocols used\n",
    "##### Transport Layer Protocols\n",
    "The packets are divided into two protocols: TCP and UDP. As we can see in the following plot, the number of TCP packets is higher than the number of UDP packets, with almost 90% of the packets being TCP packets."
   ],
   "metadata": {
    "collapsed": false
   },
   "id": "e20b9ee5393466ce"
  },
  {
   "cell_type": "code",
   "source": [
    "def transport_protocol_distribution(dataframe, title_prefix=''):\n",
    "    plt.figure(figsize=(10, 5))\n",
    "    # More neutral colors\n",
    "    dataframe['proto'].value_counts().plot(kind='bar', color=['purple', 'orange'])\n",
    "    plt.title(f'Number of packets per protocol ({title_prefix} dataset)')\n",
    "    plt.xlabel('Transport Layer Protocol')\n",
    "    plt.ylabel('Number of packets')\n",
    "    plt.show()\n",
    "\n",
    "    print(f'Ratio of TCP packets ({title_prefix} dataset): {len(dataframe[dataframe[\"proto\"] == \"tcp\"]) / len(dataframe) * 100:.2f}%')\n",
    "    print(f'Ratio of UDP packets ({title_prefix} dataset): {len(dataframe[dataframe[\"proto\"] == \"udp\"]) / len(dataframe) * 100:.2f}%')\n",
    "\n",
    "\n",
    "# Call the function for non-anomalous dataset\n",
    "transport_protocol_distribution(non_anomalous_df, title_prefix='Non-anomalous')\n",
    "\n",
    "# Call the function for anomalous dataset\n",
    "transport_protocol_distribution(anomalous_df, title_prefix='Anomalous')"
   ],
   "metadata": {
    "collapsed": false,
    "is_executing": true,
    "ExecuteTime": {
     "end_time": "2024-06-08T23:08:10.294676Z",
     "start_time": "2024-06-08T23:08:09.770887Z"
    }
   },
   "id": "e523bd0ef3f73aa1",
   "outputs": [
    {
     "data": {
      "text/plain": [
       "<Figure size 1000x500 with 1 Axes>"
      ],
      "image/png": "[encoded data removed]"
     },
     "metadata": {},
     "output_type": "display_data"
    },
    {
     "name": "stdout",
     "output_type": "stream",
     "text": [
      "Ratio of TCP packets (Non-anomalous dataset): 88.06%\n",
      "Ratio of UDP packets (Non-anomalous dataset): 11.94%\n"
     ]
    },
    {
     "data": {
      "text/plain": [
       "<Figure size 1000x500 with 1 Axes>"
      ],
      "image/png": "[encoded data removed]"
     },
     "metadata": {},
     "output_type": "display_data"
    },
    {
     "name": "stdout",
     "output_type": "stream",
     "text": [
      "Ratio of TCP packets (Anomalous dataset): 81.69%\n",
      "Ratio of UDP packets (Anomalous dataset): 18.31%\n"
     ]
    }
   ],
   "execution_count": 16
  },
  {
   "cell_type": "markdown",
   "source": [
    "##### Application Layer Protocols\n",
    "\n",
    "The following plot shows the number of packets per application layer protocol. All the packets are divided into 2 protocols: HTTPS and DNS. The number of DNS packets is lower than the number of HTTPS packets, with almost 90% of the packets being HTTPS packets. \n",
    "\n",
    "However, the anomalous datasets show a small difference between the number of DNS and HTTPS packets, with a higher number of DNS packets (7% more than the non-anomalous dataset). This could indicate attacks like DNS flooding."
   ],
   "metadata": {
    "collapsed": false
   },
   "id": "6e29baf675891f1d"
  },
  {
   "cell_type": "code",
   "outputs": [],
   "source": [
    "application_protocols = {\n",
    "    '80': 'HTTP',\n",
    "    '443': 'HTTPS',\n",
    "    '22': 'SSH',\n",
    "    '53': 'DNS',\n",
    "    '21': 'FTP',\n",
    "    '25': 'SMTP',\n",
    "}\n",
    "\n",
    "def protocol_distribution(dataframe, title_prefix=''):\n",
    "    protocol_series = dataframe['port'].astype(str).map(application_protocols)\n",
    "\n",
    "    if protocol_series.isnull().values.any():\n",
    "        protocol_series = dataframe['port']\n",
    "\n",
    "    plt.figure(figsize=(10, 5))\n",
    "    protocol_series.value_counts().plot(kind='bar', color=['navy', 'green'])\n",
    "    plt.title(f'Number of packets per application layer protocol ({title_prefix} dataset)')\n",
    "    plt.xlabel('Application Layer Protocol')\n",
    "    plt.ylabel('Number of packets')\n",
    "    plt.show()\n",
    "\n",
    "    print(f'Ratio of HTTPS packets ({title_prefix} dataset):',\n",
    "          len(dataframe[dataframe['port'] == 443]) / len(dataframe))\n",
    "    print(f'Ratio of DNS packets ({title_prefix} dataset):', len(dataframe[dataframe['port'] == 53]) / len(dataframe))\n",
    "\n",
    "\n",
    "# Call the function for non-anomalous dataset\n",
    "protocol_distribution(non_anomalous_df, title_prefix='Non-anomalous')\n",
    "\n",
    "# Call the function for anomalous dataset\n",
    "protocol_distribution(anomalous_df, title_prefix='Anomalous')"
   ],
   "metadata": {
    "collapsed": false,
    "is_executing": true
   },
   "id": "d483312dd4b22762",
   "execution_count": null
  },
  {
   "cell_type": "markdown",
   "source": [
    "### Packets sent (per Source IP)\n",
    "\n",
    "The number of packets sent by the top 100 source IPs varies between the non-anomalous and anomalous datasets. \n",
    "\n",
    "As we can see, two machines have sent a higher number of packets in the **anomalous dataset**:\n",
    "- **192.168.103.125**\n",
    "- **192.168.103.90**\n",
    "\n",
    "Pointing out that the machines could be compromised or used for malicious purposes.\n"
   ],
   "metadata": {
    "collapsed": false
   },
   "id": "34359caf58c00c17"
  },
  {
   "cell_type": "code",
   "outputs": [],
   "source": [
    "def top_source_ips(dataframe, frequency='1ms', top_n=100, y_lim=60000, title_prefix=''):\n",
    "    dataframe = dataframe.copy()\n",
    "    dataframe['timestamp'] = pd.to_datetime(dataframe['timestamp'])\n",
    "    dataframe.set_index('timestamp', inplace=True)\n",
    "\n",
    "    grouped = dataframe.groupby([pd.Grouper(freq=frequency), 'src_ip', 'dst_ip']).size().reset_index(name='packets')\n",
    "\n",
    "    src_ip_counts = grouped.groupby('src_ip')['packets'].sum().sort_values(ascending=False)\n",
    "    top_src_ip_counts = src_ip_counts.head(top_n)\n",
    "\n",
    "    plt.figure(figsize=(20, 10))\n",
    "    # Multi color bar plot\n",
    "    top_src_ip_counts.plot(kind='bar', color=cm.rainbow(np.linspace(0, 1, top_n)))\n",
    "    plt.title(f'{title_prefix} Number of packets sent by the top {top_n} source IPs')\n",
    "    plt.xlabel('Source IP')\n",
    "    plt.ylabel('Number of packets')\n",
    "    plt.ylim(0, y_lim)\n",
    "    plt.xticks(rotation=90)\n",
    "    plt.subplots_adjust(bottom=0.3)\n",
    "    plt.tight_layout()\n",
    "    plt.show()\n",
    "\n",
    "    print(f'Top 10 source IPs ({title_prefix} dataset):\\n')\n",
    "    for ip, count in top_src_ip_counts.head(10).items():\n",
    "        print(ip, \"Packets sent:\", count, \"Percentage:\", count / len(dataframe) * 100)\n",
    "\n",
    "\n",
    "# Call the function for non-anomalous dataset\n",
    "top_source_ips(non_anomalous_df, title_prefix='Non-anomalous')\n",
    "\n",
    "# Call the function for anomalous dataset\n",
    "top_source_ips(anomalous_df, title_prefix='Anomalous')"
   ],
   "metadata": {
    "collapsed": false,
    "is_executing": true
   },
   "id": "9cb44da9711685d",
   "execution_count": null
  },
  {
   "cell_type": "markdown",
   "source": [],
   "metadata": {
    "collapsed": false
   },
   "id": "3088ca8e12daf5b2"
  },
  {
   "cell_type": "markdown",
   "source": [
    "#### Downloads/Uploads\n",
    "\n",
    "The following plot shows the number of bytes uploaded and downloaded for both anomalous and non-anomalous datasets. This could be an indicator of a possible attack, as the number of bytes uploaded is higher than the number of bytes downloaded in the anomalous dataset.\n",
    "\n",
    "We found 2 machines that have **uploaded** a higher number of bytes in the anomalous dataset:\n",
    "- **192.168.103.69**\n",
    "- **192.168.103.85**"
   ],
   "metadata": {
    "collapsed": false
   },
   "id": "1cf60dc8de6f0ceb"
  },
  {
   "cell_type": "code",
   "source": [
    "def download_upload(dataframe, title_prefix='', top_n=50):\n",
    "    dataframe = dataframe.copy()\n",
    "    # Calculate total bytes (uploads + downloads) for each source IP\n",
    "    dataframe['total_bytes'] = dataframe['up_bytes'] + dataframe['down_bytes']\n",
    "\n",
    "    # Get the top N source IPs with the highest total bytes\n",
    "    top_src_ips = dataframe.groupby('src_ip')['total_bytes'].sum().nlargest(top_n).index\n",
    "\n",
    "    # Filter the dataframe to include only the top N source IPs\n",
    "    top_data = dataframe[dataframe['src_ip'].isin(top_src_ips)]\n",
    "\n",
    "    print(top_data[:10].to_string())\n",
    "\n",
    "    # Plot the data\n",
    "    plt.figure(figsize=(15, 7))  # Adjusting figure size for better readability\n",
    "    top_data.groupby('src_ip')['up_bytes'].sum().plot(kind='bar', width=0.4, color='blue', position=1, label='Uploads')\n",
    "    top_data.groupby('src_ip')['down_bytes'].sum().plot(kind='bar', width=0.4, color='red', position=0,\n",
    "                                                        label='Downloads')\n",
    "\n",
    "    plt.title(f'Number of bytes uploaded and downloaded per source IP ({title_prefix} dataset)')\n",
    "    plt.xlabel('Source IP')\n",
    "    plt.ylabel('Number of MBs')\n",
    "    plt.legend()\n",
    "    plt.xticks(rotation=90)\n",
    "    plt.tight_layout()\n",
    "    plt.show()\n",
    "\n",
    "    print(f'Number of bytes uploaded ({title_prefix} dataset):', dataframe['up_bytes'].sum())\n",
    "    print(f'Number of bytes downloaded ({title_prefix} dataset):', dataframe['down_bytes'].sum())\n",
    "\n",
    "\n",
    "# Call the function for non-anomalous dataset\n",
    "download_upload(non_anomalous_df, title_prefix='Non-anomalous')\n",
    "\n",
    "# Call the function for anomalous dataset\n",
    "download_upload(anomalous_df, title_prefix='Anomalous')"
   ],
   "metadata": {
    "collapsed": false,
    "jupyter": {
     "is_executing": true
    },
    "is_executing": true
   },
   "id": "d584bcd5f4c8a426",
   "outputs": [],
   "execution_count": null
  },
  {
   "cell_type": "markdown",
   "source": [
    "### Download/Upload on DNS packets\n",
    "\n",
    "However, the number of bytes uploaded and downloaded for DNS packets showcase that the previous detected machines (in the number of packets sent) have the highest number of bytes uploaded and downloaded for DNS packets."
   ],
   "metadata": {
    "collapsed": false
   },
   "id": "ea33ccb0c21b20a4"
  },
  {
   "cell_type": "code",
   "outputs": [],
   "source": [
    "def download_upload_dns(dataframe, title_prefix='', top_n=50):\n",
    "    dns_port = 53\n",
    "    # Filter the dataframe to include only DNS packets\n",
    "    dns_data = dataframe[dataframe['port'] == dns_port].copy()\n",
    "\n",
    "    # Calculate total bytes (uploads + downloads) for each source IP\n",
    "    dns_data['total_bytes'] = dns_data['up_bytes'] + dns_data['down_bytes']\n",
    "\n",
    "    # Get the top N source IPs with the highest total bytes\n",
    "    top_src_ips = dns_data.groupby('src_ip')['total_bytes'].sum().nlargest(top_n).index\n",
    "\n",
    "    # Filter the dataframe to include only the top N source IPs\n",
    "    top_data = dns_data[dns_data['src_ip'].isin(top_src_ips)]\n",
    "\n",
    "    # Plot the data\n",
    "    plt.figure(figsize=(15, 7))  # Adjusting figure size for better readability\n",
    "    top_data.groupby('src_ip')['up_bytes'].sum().plot(kind='bar', width=0.4, color='blue', position=1, label='Uploads')\n",
    "    top_data.groupby('src_ip')['down_bytes'].sum().plot(kind='bar', width=0.4, color='red', position=0,\n",
    "                                                        label='Downloads')\n",
    "\n",
    "    plt.title(f'Number of bytes uploaded and downloaded per source IP for DNS packets ({title_prefix} dataset)')\n",
    "    plt.xlabel('Source IP')\n",
    "    plt.ylabel('Number of MBs for DNS packets')\n",
    "    plt.legend()\n",
    "    plt.xticks(rotation=90)\n",
    "    plt.tight_layout()\n",
    "    plt.show()\n",
    "\n",
    "    print(f'Number of bytes uploaded for DNS packets ({title_prefix} dataset):', dns_data['up_bytes'].sum())\n",
    "    print(f'Number of bytes downloaded for DNS packets ({title_prefix} dataset):', dns_data['down_bytes'].sum())\n",
    "\n",
    "    # Get the src_ip with the highest number of bytes uploaded. Then print the ratio of its uploaded and downloaded bytes\n",
    "    highest_uploaded_ip = dns_data.groupby('src_ip')['up_bytes'].sum().idxmax()\n",
    "    uploaded_bytes = dns_data[dns_data['src_ip'] == highest_uploaded_ip]['up_bytes'].sum()\n",
    "    downloaded_bytes = dns_data[dns_data['src_ip'] == highest_uploaded_ip]['down_bytes'].sum()\n",
    "\n",
    "    print(f'IP with the highest uploaded bytes ({title_prefix} dataset):', highest_uploaded_ip)\n",
    "    print(f'Uploaded bytes for the source IP with the highest uploaded bytes ({title_prefix} dataset):', uploaded_bytes)\n",
    "    print(f'Downloaded bytes for the source IP with the highest uploaded bytes ({title_prefix} dataset):',\n",
    "          downloaded_bytes)\n",
    "    print(\n",
    "        f'Ratio of uploaded and downloaded bytes for the source IP with the highest uploaded bytes ({title_prefix} dataset):',\n",
    "        uploaded_bytes / downloaded_bytes)\n",
    "\n",
    "\n",
    "# Call the function for non-anomalous dataset\n",
    "download_upload_dns(non_anomalous_df, title_prefix='Non-anomalous')\n",
    "\n",
    "# Call the function for anomalous dataset\n",
    "download_upload_dns(anomalous_df, title_prefix='Anomalous')"
   ],
   "metadata": {
    "collapsed": false,
    "is_executing": true
   },
   "id": "494d492c8d07ddb6",
   "execution_count": null
  },
  {
   "cell_type": "markdown",
   "source": [
    "### Geolocation of all the traffic sent\n",
    "\n",
    "From the traffic sent, we can see that the majority of the traffic is sent to the United States. This is the same for both the anomalous and non-anomalous datasets. This could be an indicator that the traffic is sent to a cloud provider, as many cloud providers are located in the United States."
   ],
   "metadata": {
    "collapsed": false
   },
   "id": "fdfd085a8a57dcf8"
  },
  {
   "cell_type": "code",
   "outputs": [],
   "source": [
    "gi = pygeoip.GeoIP('./datasets/GeoIP_DBs/GeoIP.dat')\n",
    "\n",
    "# Is destination IPv4 a public address?\n",
    "NET = ipaddress.IPv4Network('192.168.103.0/24')\n",
    "bpublic = non_anomalous_df.apply(lambda x: ipaddress.IPv4Address(x['dst_ip']) not in NET, axis=1)\n",
    "bpublic2 = anomalous_df.apply(lambda x: ipaddress.IPv4Address(x['dst_ip']) not in NET, axis=1)\n",
    "\n",
    "# Geolocalization of public destination adddress\n",
    "country_code = non_anomalous_df[bpublic]['dst_ip'].apply(lambda y: gi.country_code_by_addr(y)).to_frame(\n",
    "    name='country_code')\n",
    "country_code2 = anomalous_df[bpublic2]['dst_ip'].apply(lambda y: gi.country_code_by_addr(y)).to_frame(\n",
    "    name='country_code')\n",
    "\n",
    "# Add country code count\n",
    "country_code = country_code['country_code'].value_counts().sort_values(ascending=False)\n",
    "country_code2 = country_code2['country_code'].value_counts().sort_values(ascending=False)\n",
    "\n",
    "country_code = country_code / non_anomalous_df.shape[0] * 100\n",
    "country_code2 = country_code2 / anomalous_df.shape[0] * 100\n",
    "\n",
    "# Show the country code count\n",
    "print('Non-anomalous dataset:')\n",
    "print(country_code)\n",
    "print('Anomalous dataset:')\n",
    "print(country_code2)"
   ],
   "metadata": {
    "collapsed": false,
    "is_executing": true
   },
   "id": "942d385305484967",
   "execution_count": null
  },
  {
   "cell_type": "markdown",
   "source": [
    "Given a threshold of 1% in variation, we can see the following countries that have a significant variation in the number of packets sent.\n",
    "\n",
    "Being the following countries new in the anomalous dataset:\n",
    "- **RU**: Russia\n",
    "- **UA**: Ukraine"
   ],
   "metadata": {
    "collapsed": false
   },
   "id": "7c86d6af73065231"
  },
  {
   "cell_type": "code",
   "outputs": [],
   "source": [
    "# Create a list to store the comparison results\n",
    "comp_list = []\n",
    "\n",
    "# Iterate through the country codes in the non-anomalous dataset\n",
    "for country in country_code.index:\n",
    "    if country in country_code2:\n",
    "        # Calculate the difference for existing countries in both datasets\n",
    "        dif = country_code2[country] - country_code[country]\n",
    "        comp_list.append({'country': country, 'variation': dif, 'is_new': False})\n",
    "    else:\n",
    "        # Handle the case where the country code is not in the anomalous dataset\n",
    "        comp_list.append({'country': country, 'variation': -country_code[country], 'is_new': False})\n",
    "\n",
    "# Handle the new country codes that are only in the anomalous dataset\n",
    "for country in country_code2.index:\n",
    "    if country not in country_code:\n",
    "        comp_list.append({'country': country, 'variation': country_code2[country], 'is_new': True})\n",
    "\n",
    "# Convert the list to a DataFrame\n",
    "comp = pd.DataFrame(comp_list)\n",
    "\n",
    "# Print the comp DataFrame given a threshold of 1% in variation\n",
    "threshold = 0.01\n",
    "print(comp[comp['variation'] > threshold])"
   ],
   "metadata": {
    "collapsed": false,
    "is_executing": true
   },
   "id": "f4a402bee8c4258e",
   "execution_count": null
  },
  {
   "cell_type": "markdown",
   "source": [
    "Although the anomalous dataset has **38** new country codes that do not appear in the non-anomalous dataset. This could indicate that the traffic is sent to a different location, which could be an indicator of an attack."
   ],
   "metadata": {
    "collapsed": false
   },
   "id": "dccd03bb84fbee51"
  },
  {
   "cell_type": "code",
   "outputs": [],
   "source": [
    "new_country_codes = set(country_code2.index) - set(country_code.index)\n",
    "new_country_codes_list = list(new_country_codes)\n",
    "new_country_codes_df = country_code2.loc[new_country_codes_list].sort_values(ascending=False)\n",
    "\n",
    "print(f'The anomalous dataset has {len(new_country_codes_df)} new country codes that do not appear in the non-anomalous dataset.')\n",
    "print(new_country_codes_df)"
   ],
   "metadata": {
    "collapsed": false,
    "is_executing": true
   },
   "id": "df6b6cf495417b1f",
   "execution_count": null
  },
  {
   "cell_type": "markdown",
   "source": [
    "Now we are going to analyze to see which internal machines are sending traffic to these new countries."
   ],
   "metadata": {
    "collapsed": false
   },
   "id": "25e91ae4902f5c2b"
  },
  {
   "cell_type": "code",
   "outputs": [],
   "source": [
    "sus_ips = []\n",
    "sus_geo = ['RU', 'UA']\n",
    "\n",
    "for geo in sus_geo:\n",
    "    sus_ips.extend(anomalous_df[anomalous_df['dst_ip'].apply(lambda x: gi.country_code_by_addr(x) == geo)]['src_ip'].unique())\n",
    "    \n",
    "# Remove the duplicates ips \n",
    "sus_ips = list(set(sus_ips))\n",
    "    \n",
    "print(f'The following internal machines are sending traffic to the new countries: {sus_ips}')"
   ],
   "metadata": {
    "collapsed": false,
    "is_executing": true
   },
   "id": "ae515bb0e84d0df6",
   "execution_count": null
  },
  {
   "cell_type": "markdown",
   "source": [
    "### Traffic Sent by the possible compromised machines\n",
    "\n",
    "For that reason, we will analyze the traffic sent by the potential infected machines.\n",
    "\n",
    "To do so, we will need to have the geographical location of the destination IP addresses. We will use the GeoIP database to get the location of the destination IP addresses."
   ],
   "metadata": {
    "collapsed": false
   },
   "id": "7bcd686a9fa9cc69"
  },
  {
   "cell_type": "code",
   "outputs": [],
   "source": [
    "sus_ips = ['192.168.103.185', '192.168.103.84', '192.168.103.169']\n",
    "anomalous_df = pd.read_parquet('datasets/dataset3/test3.parquet')\n",
    "\n",
    "def get_domain_name(ip):\n",
    "    try:\n",
    "        return dns.resolver.resolve(dns.reversename.from_address(ip), 'PTR')[0].to_text()\n",
    "    except:\n",
    "        return None\n",
    "\n",
    "def traffic_sent_by_ip_domain(dataframe, ip, frequency='1min'):\n",
    "    dataframe['timestamp'] = pd.to_datetime(dataframe['timestamp'])\n",
    "    \n",
    "    internal_network = ipaddress.IPv4Network('192.168.103.0/24')\n",
    "    dataframe = dataframe[~dataframe['dst_ip'].apply(lambda x: ipaddress.ip_address(x) in internal_network)]\n",
    "    \n",
    "    dataframe = dataframe.copy()  # Create a copy to avoid SettingWithCopyWarning\n",
    "    \n",
    "    dataframe.loc[:, 'timestamp_minute'] = dataframe['timestamp'].dt.floor('min')  # Using .loc to set values\n",
    "    \n",
    "    # DNS resolution\n",
    "    dataframe['domain'] = dataframe['dst_ip'].map(get_domain_name)\n",
    "    \n",
    "    dataframe = dataframe.dropna(subset=['domain'])\n",
    "    \n",
    "    # Calculate the sum of upload and download bytes for each DNS name\n",
    "    dataframe_grouped = dataframe.groupby('domain').agg({'up_bytes': 'sum', 'down_bytes': 'sum'}).reset_index()\n",
    "    \n",
    "    # Plot the data\n",
    "    plt.figure(figsize=(20, 10))\n",
    "    plt.plot(dataframe_grouped['timestamp_minute'], dataframe_grouped['up_bytes'], label='Uploads')\n",
    "    plt.plot(dataframe_grouped['timestamp_minute'], dataframe_grouped['down_bytes'], label='Downloads')\n",
    "    plt.title(f'Number of bytes uploaded and downloaded by {ip} per minute')\n",
    "    plt.xlabel('Time')\n",
    "    plt.ylabel('Number of bytes')\n",
    "    plt.legend()\n",
    "    plt.show()    \n",
    "\n",
    "for ip in sus_ips:\n",
    "    print(f'Traffic sent by {ip}:')\n",
    "    traffic_sent_by_ip_domain(anomalous_df, ip)"
   ],
   "metadata": {
    "collapsed": false,
    "is_executing": true
   },
   "id": "c60f4431716429c9",
   "execution_count": null
  },
  {
   "cell_type": "markdown",
   "source": [
    "### Domains of the traffic sent by the potential compromised machines"
   ],
   "metadata": {
    "collapsed": false
   },
   "id": "7ef9d2a9e30ace7f"
  },
  {
   "metadata": {},
   "cell_type": "code",
   "outputs": [],
   "execution_count": null,
   "source": "",
   "id": "3be9b63a1df85e72"
  }
 ],
 "metadata": {
  "kernelspec": {
   "display_name": "Python 3",
   "language": "python",
   "name": "python3"
  },
  "language_info": {
   "codemirror_mode": {
    "name": "ipython",
    "version": 2
   },
   "file_extension": ".py",
   "mimetype": "text/x-python",
   "name": "python",
   "nbconvert_exporter": "python",
   "pygments_lexer": "ipython2",
   "version": "2.7.6"
  }
 },
 "nbformat": 4,
 "nbformat_minor": 5
}
